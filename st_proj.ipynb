{
 "cells": [
  {
   "cell_type": "code",
   "execution_count": null,
   "metadata": {},
   "outputs": [],
   "source": [
    "import pandas as pd\n",
    "import numpy as np\n",
    "import matplotlib.pyplot as plt\n",
    "import tensorflow as tf\n",
    "\n",
    "from sklearn.preprocessing import StandardScaler\n",
    "from sklearn.linear_model import LinearRegression\n",
    "\n",
    "from imblearn.over_sampling import RandomOverSampler\n",
    "\n",
    "import copy\n",
    "\n",
    "import seaborn as sns\n",
    "\n",
    "\n",
    "df = pd.read_csv(\"train.csv\")\n",
    "dataset_cols = [\n",
    "  \"Passenger\",\n",
    "  \"CryoSleep\",\n",
    "  \"HomePlanet\",\n",
    "  \"Cabin\",\n",
    "  \"Destination\",\n",
    "  \"Age\",\n",
    "  \"VIP\",\n",
    "  \"RoomService\",\n",
    "  \"FoodCourt\",\n",
    "  \"ShoppingMall\",\n",
    "  \"Spa\",\n",
    "  \"VRDeck\",\n",
    "  \"Transported\"\n",
    "]\n",
    "\n",
    "df.cols = dataset_cols\n",
    "df.head()\n",
    "\n",
    "\n",
    "df = df.drop([\"PassengerId\"], axis = 1)\n",
    "df = df.drop([\"Name\"], axis = 1)\n",
    "\n",
    "\n",
    "print(\"Unique Home Planets:\", df['HomePlanet'].unique())\n",
    "planet_map = {\"Europa\": 1, \"Earth\": 2, \"Mars\": 3, np.nan: -1}  # Include np.nan mapping\n",
    "df[\"HomePlanet\"] = df[\"HomePlanet\"].map(planet_map).fillna(-1).astype(int)  # home planet to int\n",
    "df.head()"
   ]
  }
 ],
 "metadata": {
  "language_info": {
   "name": "python"
  }
 },
 "nbformat": 4,
 "nbformat_minor": 2
}
